{
 "metadata": {
  "name": "",
  "signature": "sha256:0389b377d9a7fbe6943b1e23b74eea709943f55e785c12a4e8ae3ee33a60c20f"
 },
 "nbformat": 3,
 "nbformat_minor": 0,
 "worksheets": [
  {
   "cells": [
    {
     "cell_type": "code",
     "collapsed": false,
     "input": [],
     "language": "python",
     "metadata": {},
     "outputs": []
    }
   ],
   "metadata": {}
  }
 ]
}