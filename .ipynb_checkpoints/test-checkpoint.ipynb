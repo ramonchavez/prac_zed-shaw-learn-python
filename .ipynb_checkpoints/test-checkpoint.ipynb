{
 "metadata": {
  "name": "",
  "signature": "sha256:f063ef159c476983e1998d58047d289b275d919f729322768c4ea6341c391750"
 },
 "nbformat": 3,
 "nbformat_minor": 0,
 "worksheets": [
  {
   "cells": [
    {
     "cell_type": "markdown",
     "metadata": {},
     "source": [
      "my name"
     ]
    },
    {
     "cell_type": "markdown",
     "metadata": {},
     "source": [
      "is"
     ]
    },
    {
     "cell_type": "code",
     "collapsed": false,
     "input": [
      "8+5"
     ],
     "language": "python",
     "metadata": {},
     "outputs": [
      {
       "metadata": {},
       "output_type": "pyout",
       "prompt_number": 2,
       "text": [
        "13"
       ]
      }
     ],
     "prompt_number": 2
    },
    {
     "cell_type": "code",
     "collapsed": false,
     "input": [],
     "language": "python",
     "metadata": {},
     "outputs": []
    }
   ],
   "metadata": {}
  }
 ]
}